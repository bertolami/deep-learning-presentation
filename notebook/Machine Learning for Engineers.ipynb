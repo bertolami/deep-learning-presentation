{
 "cells": [
  {
   "cell_type": "markdown",
   "metadata": {},
   "source": [
    "# Deep Learning for Engineers\n"
   ]
  },
  {
   "cell_type": "markdown",
   "metadata": {},
   "source": [
    "## First Some Helpers"
   ]
  },
  {
   "cell_type": "code",
   "execution_count": 1,
   "metadata": {
    "collapsed": true
   },
   "outputs": [],
   "source": [
    "\n",
    "def print_row(cols, max_length=20):\n",
    "    col_width = max_length\n",
    "    print(\"\".join(str(word).ljust(col_width) for word in cols))\n"
   ]
  },
  {
   "cell_type": "markdown",
   "metadata": {},
   "source": [
    "## Load the data"
   ]
  },
  {
   "cell_type": "code",
   "execution_count": 2,
   "metadata": {
    "collapsed": true
   },
   "outputs": [],
   "source": [
    "def load_data(pickle_file):\n",
    "    import pickle\n",
    "\n",
    "    try:\n",
    "        with open(pickle_file, 'rb') as f:\n",
    "            return pickle.load(f)\n",
    "    except Exception as e:\n",
    "        print('Unable to load data from', pickle_file, ':', e)\n",
    "        raise\n",
    "\n",
    "data = load_data('partial_notMNIST.pickle')\n",
    "train_dataset = data['train_dataset']\n",
    "train_labels = data['train_labels']\n",
    "test_dataset = data['test_dataset']\n",
    "test_labels = data['test_labels']\n",
    "valid_dataset = data['valid_dataset']\n",
    "valid_labels = data['valid_labels']"
   ]
  },
  {
   "cell_type": "markdown",
   "metadata": {},
   "source": [
    "### Show some data"
   ]
  },
  {
   "cell_type": "code",
   "execution_count": 3,
   "metadata": {},
   "outputs": [
    {
     "data": {
      "image/png": "[encoded data removed]",
      "text/plain": [
       "<matplotlib.figure.Figure at 0x7f5d7856b588>"
      ]
     },
     "metadata": {},
     "output_type": "display_data"
    }
   ],
   "source": [
    "%matplotlib inline\n",
    "import matplotlib.pyplot as plt\n",
    "import random\n",
    "\n",
    "def label_to_char(one_hot):\n",
    "    return \"ABCDEFGHIJKLMOPQRSTUVWXYZ\"[one_hot]\n",
    "\n",
    "\n",
    "n = 16\n",
    "rows = 2\n",
    "for i in range(1,1+n):\n",
    "    image_to_show = random.randint(0,len(train_dataset))\n",
    "\n",
    "    plt.subplot(rows,n/rows,i)\n",
    "    plt.imshow(train_dataset[image_to_show], cmap=\"gray\")\n",
    "    plt.title(label_to_char(train_labels[image_to_show]))\n"
   ]
  },
  {
   "cell_type": "markdown",
   "metadata": {},
   "source": [
    "## Summary"
   ]
  },
  {
   "cell_type": "code",
   "execution_count": 4,
   "metadata": {},
   "outputs": [
    {
     "name": "stdout",
     "output_type": "stream",
     "text": [
      "Train:  (10000, 28, 28)\n",
      "Test:  (1000, 28, 28)\n",
      "Valid:  (2000, 28, 28)\n"
     ]
    }
   ],
   "source": [
    "print(\"Train: \", train_dataset.shape)\n",
    "print(\"Test: \", test_dataset.shape)\n",
    "print(\"Valid: \", valid_dataset.shape)"
   ]
  },
  {
   "cell_type": "markdown",
   "metadata": {},
   "source": [
    "## Demo 0: Random Classifier"
   ]
  },
  {
   "cell_type": "code",
   "execution_count": 5,
   "metadata": {
    "collapsed": true
   },
   "outputs": [],
   "source": [
    "import numpy as np\n",
    "\n",
    "def accuracy(predictions, labels):\n",
    "  return (np.sum(np.array(predictions) == np.array(labels))\n",
    "          / len(predictions))\n",
    "\n",
    "def evaluate_classifier(classifier):  \n",
    "    # Train\n",
    "    classifier.fit(train_dataset, train_labels)\n",
    "    \n",
    "    # Evaluate\n",
    "    predictions = classifier.predict(test_dataset)\n",
    "\n",
    "    print(\"Test accuracy: %s\" % accuracy(predictions, test_labels))"
   ]
  },
  {
   "cell_type": "code",
   "execution_count": 6,
   "metadata": {
    "collapsed": true
   },
   "outputs": [],
   "source": [
    "class RandomClassifier:\n",
    "    import random\n",
    "    \n",
    "    def fit(self, test_data, test_labels):\n",
    "        self.seen_labels = set(test_labels)\n",
    "    \n",
    "    def predict(self, data):\n",
    "        return [random.sample(self.seen_labels,1)[0] for i in data]"
   ]
  },
  {
   "cell_type": "code",
   "execution_count": 7,
   "metadata": {},
   "outputs": [
    {
     "name": "stdout",
     "output_type": "stream",
     "text": [
      "Test accuracy: 0.109\n"
     ]
    }
   ],
   "source": [
    "evaluate_classifier(RandomClassifier())"
   ]
  },
  {
   "cell_type": "markdown",
   "metadata": {},
   "source": [
    "## Demo 1: Tensor Flow\n",
    "\n"
   ]
  },
  {
   "cell_type": "code",
   "execution_count": 8,
   "metadata": {
    "collapsed": true
   },
   "outputs": [],
   "source": [
    "import numpy as np\n",
    "import tensorflow as tf\n",
    "\n",
    "graph = tf.Graph()\n",
    "with graph.as_default():\n",
    "    A = tf.constant(np.array([1,2,3,4,5]))\n",
    "    B = tf.constant(np.array([1,2,3,4,5]))\n",
    "    R = A + B\n"
   ]
  },
  {
   "cell_type": "code",
   "execution_count": 9,
   "metadata": {},
   "outputs": [
    {
     "name": "stdout",
     "output_type": "stream",
     "text": [
      "[array([ 2,  4,  6,  8, 10])]\n"
     ]
    }
   ],
   "source": [
    "with tf.Session(graph=graph) as session:\n",
    "    tf.global_variables_initializer().run()\n",
    "    res = session.run([R])\n",
    "    print(res)\n",
    "    "
   ]
  },
  {
   "cell_type": "markdown",
   "metadata": {},
   "source": [
    "## Demo 3: Logistic Regression using TensorFlow\n",
    "\n",
    "Let's implement the logistic regression using tensor flow."
   ]
  },
  {
   "cell_type": "code",
   "execution_count": 10,
   "metadata": {},
   "outputs": [],
   "source": [
    "import numpy as np\n",
    "\n",
    "image_size = 28\n",
    "num_labels = 10\n",
    "\n",
    "# Convert 2 to [0, 0, 1, 0, 0, 0, 0, 0, 0, 0]\n",
    "def to_one_hot(labels):\n",
    "    return (np.arange(num_labels) == labels[:,None]).astype(np.float32)\n",
    "\n",
    "def from_one_hot(labels):\n",
    "    return np.argmax(labels,1)\n",
    "\n",
    "def reformat(dataset, labels):\n",
    "  dataset = dataset.reshape((-1, image_size * image_size)).astype(np.float32)\n",
    "  labels = to_one_hot(labels)\n",
    "  return dataset, labels\n"
   ]
  },
  {
   "cell_type": "code",
   "execution_count": 11,
   "metadata": {
    "collapsed": true
   },
   "outputs": [],
   "source": [
    "\n",
    "class TensorLogisticRegression:\n",
    "    def __init__(self):\n",
    "        self.num_steps = 1000\n",
    "       \n",
    "    def fit(self, train_dataset, train_labels):\n",
    "        train_dataset, train_labels = reformat(train_dataset, train_labels)\n",
    "        \n",
    "        graph = tf.Graph()\n",
    "        with graph.as_default():\n",
    "          # Load the Data\n",
    "          tf_train_dataset = tf.constant(train_dataset)\n",
    "          tf_train_labels = tf.constant(train_labels)\n",
    "\n",
    "          # Linear Model\n",
    "          weights = tf.Variable(tf.truncated_normal([image_size * image_size, num_labels]))\n",
    "          biases = tf.Variable(tf.zeros([num_labels]))\n",
    "\n",
    "          logits = tf.matmul(tf_train_dataset, weights) + biases\n",
    "          prediction = tf.nn.softmax(logits) \n",
    "            \n",
    "          loss = tf.reduce_mean(tf.nn.softmax_cross_entropy_with_logits(logits=logits, labels=tf_train_labels))\n",
    "\n",
    "          # Optimizer.\n",
    "          optimizer = tf.train.GradientDescentOptimizer(0.5).minimize(loss)\n",
    "          \n",
    "        \n",
    "        with tf.Session(graph=graph) as session:\n",
    "          print_row(['Step', 'Loss', 'A-Train'])\n",
    "          tf.global_variables_initializer().run()\n",
    "          for step in range(self.num_steps):\n",
    "            w, b, _, l, predictions = session.run([weights, biases, optimizer, loss, prediction])\n",
    "            if (step % 100 == 0):\n",
    "              train_acc = accuracy(from_one_hot(predictions), from_one_hot(train_labels))                  \n",
    "\n",
    "              print_row([step, l, train_acc])\n",
    "                \n",
    "          self.weights = w\n",
    "          self.biases = b\n",
    "            \n",
    "    def predict(self, data):\n",
    "        data,_ = reformat(data, np.arange(10))\n",
    "        graph = tf.Graph()\n",
    "        with graph.as_default():\n",
    "            weights = tf.constant(self.weights)\n",
    "            biases = tf.constant(self.biases)\n",
    "            tfdata = tf.constant(data)\n",
    "            logits = tf.matmul(data, weights) + biases\n",
    "            \n",
    "            prediction = tf.nn.softmax(logits)\n",
    "            \n",
    "        with tf.Session(graph=graph) as session:\n",
    "            tf.global_variables_initializer().run()\n",
    "            predictions, _ = session.run([prediction, logits])\n",
    "            return from_one_hot(predictions)\n"
   ]
  },
  {
   "cell_type": "code",
   "execution_count": 12,
   "metadata": {},
   "outputs": [
    {
     "name": "stdout",
     "output_type": "stream",
     "text": [
      "Step                Loss                A-Train             \n",
      "0                   17.085              0.1207              \n",
      "100                 2.31932             0.722               \n",
      "200                 1.86872             0.7511              \n",
      "300                 1.62002             0.7647              \n",
      "400                 1.45259             0.772               \n",
      "500                 1.32918             0.7784              \n",
      "600                 1.23259             0.7848              \n",
      "700                 1.15374             0.7909              \n",
      "800                 1.0877              0.7968              \n",
      "900                 1.03148             0.8005              \n",
      "Test accuracy: 0.824\n"
     ]
    }
   ],
   "source": [
    "evaluate_classifier(TensorLogisticRegression())"
   ]
  },
  {
   "cell_type": "markdown",
   "metadata": {},
   "source": [
    "## Demo 4: First Neural Network"
   ]
  },
  {
   "cell_type": "code",
   "execution_count": 13,
   "metadata": {
    "collapsed": true
   },
   "outputs": [],
   "source": [
    "class TensorNeuralNetwork:\n",
    "    def __init__(self):\n",
    "        self.num_steps = 5001\n",
    "        self.batch_size = 128\n",
    "        self.num_relu = 1024\n",
    "        self.image_size = 28\n",
    "    \n",
    "    def fit(self, train_data, train_labels):\n",
    "        graph = tf.Graph()\n",
    "        with graph.as_default():\n",
    "          tf_train_dataset = tf.placeholder(tf.float32,\n",
    "                                            shape=(self.batch_size, self.image_size * self.image_size))\n",
    "          tf_train_labels = tf.placeholder(tf.float32, shape=(self.batch_size, num_labels))\n",
    "\n",
    "          # Variables.\n",
    "          weights_1 = tf.Variable(tf.truncated_normal([self.image_size * self.image_size, self.num_relu]))\n",
    "          biases_1 = tf.Variable(tf.zeros([self.num_relu]))\n",
    "\n",
    "          hidden_input = tf.matmul(tf_train_dataset, weights_1) + biases_1\n",
    "          hidden_output = tf.nn.relu(hidden_input)\n",
    "\n",
    "          weights_2 = tf.Variable(tf.truncated_normal([self.num_relu, num_labels]))\n",
    "          biases_2 = tf.Variable(tf.zeros([num_labels]))\n",
    "\n",
    "          # Training computation.\n",
    "          logits = tf.matmul(hidden_output, weights_2) + biases_2\n",
    "\n",
    "          # Loss to optimize\n",
    "          loss = tf.reduce_mean(tf.nn.softmax_cross_entropy_with_logits(logits=logits, labels=tf_train_labels))\n",
    "\n",
    "          # Optimizer.\n",
    "          optimizer = tf.train.GradientDescentOptimizer(0.5).minimize(loss)\n",
    "\n",
    "          # Predictions for the training, validation, and test data.\n",
    "          train_prediction = tf.nn.softmax(logits)\n",
    "        \n",
    "        dataset, labels = reformat(train_dataset, train_labels)\n",
    "\n",
    "        with tf.Session(graph=graph) as session:\n",
    "          tf.global_variables_initializer().run()\n",
    "          print_row(['Step', 'Loss', 'Acc-Train'])\n",
    "          for step in range(self.num_steps):\n",
    "            offset = (step * self.batch_size) % (labels.shape[0] - self.batch_size)\n",
    "            batch_data = dataset[offset:(offset + self.batch_size), :]\n",
    "            batch_labels = labels[offset:(offset + self.batch_size), :]\n",
    "\n",
    "            feed_dict = {tf_train_dataset : batch_data, tf_train_labels : batch_labels}\n",
    "\n",
    "            _, l, predictions, w1, b1, w2, b2 = session.run(\n",
    "                [\n",
    "                    optimizer, loss, train_prediction, \n",
    "                    weights_1, biases_1, weights_2, biases_2\n",
    "                ], \n",
    "                feed_dict=feed_dict\n",
    "            )\n",
    "\n",
    "            if (step % 500 == 0):\n",
    "              test_acc = accuracy(from_one_hot(predictions), from_one_hot(batch_labels))\n",
    "\n",
    "              print_row([step, l, test_acc])\n",
    "        \n",
    "        self.weights_1 = w1\n",
    "        self.biases_1 = b1\n",
    "        self.weights_2 = w2\n",
    "        self.biases_2 = b2\n",
    "        \n",
    "    def predict(self, data):\n",
    "        data,_ = reformat(data, np.arange(10))\n",
    "        graph = tf.Graph()\n",
    "        with graph.as_default():\n",
    "            weights_1 = tf.constant(self.weights_1)\n",
    "            biases_1 = tf.constant(self.biases_1)\n",
    "            weights_2 = tf.constant(self.weights_2)\n",
    "            biases_2 = tf.constant(self.biases_2)\n",
    "            tfdata = tf.constant(data)\n",
    "            \n",
    "            hidden_input = tf.matmul(tfdata, weights_1) + biases_1\n",
    "            hidden_output = tf.nn.relu(hidden_input)\n",
    "            \n",
    "            logits = tf.matmul(hidden_output, weights_2) + biases_2\n",
    "            \n",
    "            prediction = tf.nn.softmax(logits)\n",
    "            \n",
    "        with tf.Session(graph=graph) as session:\n",
    "            tf.global_variables_initializer().run()\n",
    "            predictions, _ = session.run([prediction, logits])\n",
    "            return from_one_hot(predictions)\n",
    "\n"
   ]
  },
  {
   "cell_type": "code",
   "execution_count": 14,
   "metadata": {
    "scrolled": true
   },
   "outputs": [
    {
     "name": "stdout",
     "output_type": "stream",
     "text": [
      "Step                Loss                Acc-Train           \n",
      "0                   351.996             0.0859375           \n",
      "500                 13.1669             0.9296875           \n",
      "1000                1.46369             0.9609375           \n",
      "1500                0.0258517           0.9921875           \n",
      "2000                2.04867e-06         1.0                 \n",
      "2500                3.01042e-06         1.0                 \n",
      "3000                7.72994e-08         1.0                 \n",
      "3500                0.0                 1.0                 \n",
      "4000                2.6334e-06          1.0                 \n",
      "4500                7.72737e-05         1.0                 \n",
      "5000                1.3941e-06          1.0                 \n",
      "Test accuracy: 0.866\n"
     ]
    }
   ],
   "source": [
    "evaluate_classifier(TensorNeuralNetwork())\n",
    "  "
   ]
  },
  {
   "cell_type": "markdown",
   "metadata": {},
   "source": [
    "## Demo 4: Stochastic Gradient Descent\n"
   ]
  },
  {
   "cell_type": "code",
   "execution_count": 15,
   "metadata": {
    "collapsed": true
   },
   "outputs": [],
   "source": [
    "train_dataset, train_labels = reformat(train_dataset, train_labels)\n",
    "valid_dataset, valid_labels = reformat(valid_dataset, valid_labels)\n",
    "test_dataset, test_labels = reformat(test_dataset, test_labels)\n",
    "\n",
    "train_subset = 128\n",
    "\n",
    "def accuracy(predictions, labels):\n",
    "  return (np.sum(np.argmax(predictions, 1) == np.argmax(labels, 1))\n",
    "          / predictions.shape[0])\n",
    "\n",
    "graph = tf.Graph()\n",
    "with graph.as_default():\n",
    "  # Load the Data\n",
    "  tf_train_dataset = tf.constant(train_dataset[:train_subset, :])\n",
    "  tf_train_labels = tf.constant(train_labels[:train_subset])\n",
    "  tf_valid_dataset = tf.constant(valid_dataset)\n",
    "  tf_test_dataset = tf.constant(test_dataset)\n",
    "  \n",
    "  # Linear Model\n",
    "  weights = tf.Variable(\n",
    "    tf.truncated_normal([image_size * image_size, num_labels]))\n",
    "  biases = tf.Variable(tf.zeros([num_labels]))\n",
    "  \n",
    "  # Training computation.\n",
    "  logits = tf.matmul(tf_train_dataset, weights) + biases\n",
    "  loss = tf.reduce_mean(tf.nn.softmax_cross_entropy_with_logits(logits=logits, labels=tf_train_labels))\n",
    "  \n",
    "  # Optimizer.\n",
    "  optimizer = tf.train.GradientDescentOptimizer(0.5).minimize(loss)\n",
    "  \n",
    "  # Predict!\n",
    "  train_prediction = tf.nn.softmax(logits)\n",
    "  valid_prediction = tf.nn.softmax(tf.matmul(tf_valid_dataset, weights) + biases)\n",
    "  test_prediction = tf.nn.softmax(tf.matmul(tf_test_dataset, weights) + biases)"
   ]
  },
  {
   "cell_type": "code",
   "execution_count": 16,
   "metadata": {},
   "outputs": [
    {
     "name": "stdout",
     "output_type": "stream",
     "text": [
      "Step                Loss                Acc-Train           Acc-Valid           \n",
      "0                   15.2293             0.09375             0.181               \n",
      "500                 0.630547            0.859375            0.7515              \n",
      "1000                1.5281              0.7265625           0.7545              \n",
      "1500                1.18858             0.7578125           0.7535              \n",
      "2000                0.710201            0.8203125           0.7605              \n",
      "2500                0.919894            0.7421875           0.764               \n",
      "3000                0.508534            0.859375            0.764               \n",
      "3500                0.831948            0.8046875           0.7645              \n",
      "4000                0.601305            0.7890625           0.7635              \n",
      "4500                0.66123             0.84375             0.762               \n",
      "5000                0.533061            0.828125            0.7665              \n",
      "5500                0.406684            0.8671875           0.7775              \n",
      "6000                0.386919            0.890625            0.768               \n",
      "6500                0.345753            0.8984375           0.77                \n",
      "7000                0.427847            0.875               0.7725              \n",
      "7500                0.583234            0.8515625           0.778               \n",
      "8000                0.456624            0.8671875           0.7645              \n",
      "8500                0.333856            0.8984375           0.777               \n",
      "9000                0.275509            0.9296875           0.7625              \n",
      "9500                0.316204            0.90625             0.7645              \n",
      "Test accuracy: 0.8400%\n"
     ]
    }
   ],
   "source": [
    "num_steps = 10000\n",
    "batch_size = 128\n",
    "\n",
    "with tf.Session(graph=graph) as session:\n",
    "  tf.global_variables_initializer().run()\n",
    "  print_row(['Step', 'Loss', 'Acc-Train', 'Acc-Valid'])\n",
    "  for step in range(num_steps):\n",
    "    offset = (step * batch_size) % (train_labels.shape[0] - batch_size)\n",
    "    batch_data = train_dataset[offset:(offset + batch_size), :]\n",
    "    batch_labels = train_labels[offset:(offset + batch_size), :]\n",
    "    \n",
    "    feed_dict = {tf_train_dataset : batch_data, tf_train_labels : batch_labels}\n",
    "    \n",
    "    _, l, predictions = session.run([optimizer, loss, train_prediction], feed_dict=feed_dict)\n",
    "    \n",
    "    if (step % 500 == 0):\n",
    "      train_acc = accuracy(predictions, batch_labels)\n",
    "      valid_acc = accuracy(valid_prediction.eval(), valid_labels)\n",
    "        \n",
    "      print_row([step, l, train_acc, valid_acc])\n",
    "  print(\"Test accuracy: %.4f%%\" % accuracy(test_prediction.eval(), test_labels))"
   ]
  },
  {
   "cell_type": "markdown",
   "metadata": {},
   "source": [
    "## Demo 5: Regularization\n",
    "\n"
   ]
  },
  {
   "cell_type": "code",
   "execution_count": 17,
   "metadata": {
    "collapsed": true
   },
   "outputs": [],
   "source": [
    "batch_size = 256\n",
    "num_relu = 1024\n",
    "\n",
    "graph = tf.Graph()\n",
    "with graph.as_default():\n",
    "\n",
    "  tf_train_dataset = tf.placeholder(tf.float32,\n",
    "                                    shape=(batch_size, image_size * image_size))\n",
    "  tf_train_labels = tf.placeholder(tf.float32, shape=(batch_size, num_labels))\n",
    "  tf_valid_dataset = tf.constant(valid_dataset)\n",
    "  tf_test_dataset = tf.constant(test_dataset)\n",
    "  \n",
    "  # Variables.\n",
    "  weights_1 = tf.Variable(tf.truncated_normal([image_size * image_size, num_relu]))\n",
    "  biases_1 = tf.Variable(tf.zeros([num_relu]))\n",
    "  \n",
    "  hidden_input = tf.matmul(tf_train_dataset, weights_1) + biases_1\n",
    "  hidden_output = tf.nn.relu(hidden_input)\n",
    "  regularized_output_1 = tf.nn.dropout(hidden_output, 0.5)\n",
    "\n",
    "  weights_2 = tf.Variable(tf.truncated_normal([num_relu, num_labels]))\n",
    "  biases_2 = tf.Variable(tf.zeros([num_labels]))\n",
    "\n",
    "  # Training computation.\n",
    "  logits = tf.matmul(regularized_output_1, weights_2) + biases_2\n",
    "\n",
    "  # Loss to optimize\n",
    "  beta = tf.constant(0.001)\n",
    "  l2_w1 = beta * tf.nn.l2_loss(weights_1)\n",
    "  l2_w2 = beta * tf.nn.l2_loss(weights_2)\n",
    "  logits = tf.matmul(hidden_output, weights_2) + biases_2 \n",
    "  loss = tf.reduce_mean(tf.nn.softmax_cross_entropy_with_logits(logits=logits, labels=tf_train_labels)) + l2_w1 + l2_w2\n",
    "  \n",
    "  # Optimizer.\n",
    "  optimizer = tf.train.GradientDescentOptimizer(0.5).minimize(loss)\n",
    "  \n",
    "  # Predictions for the training, validation, and test data.\n",
    "  train_prediction = tf.nn.softmax(logits)\n",
    "  valid_prediction = tf.nn.softmax(tf.matmul(tf.nn.relu(tf.matmul(tf_valid_dataset,weights_1)+biases_1), weights_2) + biases_2)\n",
    "  test_prediction = tf.nn.softmax(tf.matmul(tf.nn.relu(tf.matmul(tf_test_dataset,weights_1)+biases_1), weights_2) + biases_2)\n"
   ]
  },
  {
   "cell_type": "code",
   "execution_count": 18,
   "metadata": {},
   "outputs": [
    {
     "name": "stdout",
     "output_type": "stream",
     "text": [
      "Step                Loss                Acc-Train           Acc-Valid           \n",
      "0                   621.177             0.09375             0.2445              \n",
      "1000                114.794             1.0                 0.819               \n",
      "2000                42.2234             1.0                 0.82                \n",
      "3000                15.5679             1.0                 0.833               \n",
      "Test accuracy: 0.8990%\n"
     ]
    }
   ],
   "source": [
    "num_steps = 4000\n",
    "\n",
    "with tf.Session(graph=graph) as session:\n",
    "  tf.global_variables_initializer().run()\n",
    "  print_row(['Step', 'Loss', 'Acc-Train', 'Acc-Valid'])\n",
    "  for step in range(num_steps):\n",
    "    # Pick Minibatch\n",
    "    offset = (step * batch_size) % (train_labels.shape[0] - batch_size)\n",
    "    batch_data = train_dataset[offset:(offset + batch_size), :]\n",
    "    batch_labels = train_labels[offset:(offset + batch_size), :]\n",
    "    \n",
    "    feed_dict = {tf_train_dataset : batch_data, tf_train_labels : batch_labels}\n",
    "    \n",
    "    _, l, predictions = session.run([optimizer, loss, train_prediction], feed_dict=feed_dict)\n",
    "    \n",
    "    if step % 1000 == 0:\n",
    "      test_acc = accuracy(predictions, batch_labels)\n",
    "      valid_acc = accuracy(valid_prediction.eval(), valid_labels)\n",
    "        \n",
    "      print_row([step, l, test_acc, valid_acc])\n",
    "  print(\"Test accuracy: %.4f%%\" % accuracy(test_prediction.eval(), test_labels))"
   ]
  },
  {
   "cell_type": "markdown",
   "metadata": {
    "collapsed": true
   },
   "source": [
    "# Demo 6: Convolutional Networks"
   ]
  },
  {
   "cell_type": "code",
   "execution_count": 19,
   "metadata": {
    "scrolled": true
   },
   "outputs": [
    {
     "name": "stdout",
     "output_type": "stream",
     "text": [
      "Training set (10000, 28, 28, 1) (10000, 10)\n",
      "Validation set (2000, 28, 28, 1) (2000, 10)\n",
      "Test set (1000, 28, 28, 1) (1000, 10)\n"
     ]
    }
   ],
   "source": [
    "image_size = 28\n",
    "num_labels = 10\n",
    "num_channels = 1 \n",
    "\n",
    "import numpy as np\n",
    "\n",
    "data = load_data('partial_notMNIST.pickle')\n",
    "train_dataset = data['train_dataset']\n",
    "train_labels = data['train_labels']\n",
    "test_dataset = data['test_dataset']\n",
    "test_labels = data['test_labels']\n",
    "valid_dataset = data['valid_dataset']\n",
    "valid_labels = data['valid_labels']\n",
    "\n",
    "def reformat(dataset, labels):\n",
    "  dataset = dataset.reshape((-1, image_size, image_size, num_channels)).astype(np.float32)\n",
    "  labels = (np.arange(num_labels) == labels[:,None]).astype(np.float32)\n",
    "  return dataset, labels\n",
    "\n",
    "train_dataset, train_labels = reformat(train_dataset, train_labels)\n",
    "valid_dataset, valid_labels = reformat(valid_dataset, valid_labels)\n",
    "test_dataset, test_labels = reformat(test_dataset, test_labels)\n",
    "print('Training set', train_dataset.shape, train_labels.shape)\n",
    "print('Validation set', valid_dataset.shape, valid_labels.shape)\n",
    "print('Test set', test_dataset.shape, test_labels.shape)"
   ]
  },
  {
   "cell_type": "code",
   "execution_count": 20,
   "metadata": {
    "collapsed": true
   },
   "outputs": [],
   "source": [
    "batch_size = 16\n",
    "patch_size = 5\n",
    "depth = 16\n",
    "num_hidden = 64\n",
    "\n",
    "graph = tf.Graph()\n",
    "\n",
    "with graph.as_default():\n",
    "\n",
    "  # Input data.\n",
    "  tf_train_dataset = tf.placeholder(tf.float32, shape=(batch_size, image_size, image_size, num_channels))\n",
    "  tf_train_labels = tf.placeholder(tf.float32, shape=(batch_size, num_labels))\n",
    "  tf_valid_dataset = tf.constant(valid_dataset)\n",
    "  tf_test_dataset = tf.constant(test_dataset)\n",
    "  \n",
    "  # Variables.\n",
    "  layer1_weights = tf.Variable(tf.truncated_normal([patch_size, patch_size, num_channels, depth], stddev=0.1))\n",
    "  layer1_biases = tf.Variable(tf.zeros([depth]))\n",
    "  layer2_weights = tf.Variable(tf.truncated_normal([patch_size, patch_size, depth, depth], stddev=0.1))\n",
    "  layer2_biases = tf.Variable(tf.constant(1.0, shape=[depth]))\n",
    "  layer3_weights = tf.Variable(tf.truncated_normal([image_size // 4 * image_size // 4 * depth, num_hidden], stddev=0.1))\n",
    "  layer3_biases = tf.Variable(tf.constant(1.0, shape=[num_hidden]))\n",
    "  layer4_weights = tf.Variable(tf.truncated_normal([num_hidden, num_labels], stddev=0.1))\n",
    "  layer4_biases = tf.Variable(tf.constant(1.0, shape=[num_labels]))\n",
    "  \n",
    "  def model(data):\n",
    "    conv = tf.nn.conv2d(data, layer1_weights, [1, 2, 2, 1], padding='SAME')\n",
    "    hidden = tf.nn.relu(conv + layer1_biases)\n",
    "    conv = tf.nn.conv2d(hidden, layer2_weights, [1, 2, 2, 1], padding='SAME')\n",
    "    hidden = tf.nn.relu(conv + layer2_biases)\n",
    "    \n",
    "    shape = hidden.get_shape().as_list()\n",
    "    reshape = tf.reshape(hidden, [shape[0], shape[1] * shape[2] * shape[3]])\n",
    "    hidden = tf.nn.relu(tf.matmul(reshape, layer3_weights) + layer3_biases)\n",
    "    return tf.matmul(hidden, layer4_weights) + layer4_biases\n",
    "  \n",
    "  # Training computation.\n",
    "  logits = model(tf_train_dataset)\n",
    "  loss = tf.reduce_mean(\n",
    "    tf.nn.softmax_cross_entropy_with_logits(logits=logits, labels=tf_train_labels))\n",
    "    \n",
    "  optimizer = tf.train.GradientDescentOptimizer(0.05).minimize(loss)\n",
    "  \n",
    "  # Predictions for the training, validation, and test data.\n",
    "  train_prediction = tf.nn.softmax(logits)\n",
    "  valid_prediction = tf.nn.softmax(model(tf_valid_dataset))\n",
    "  test_prediction = tf.nn.softmax(model(tf_test_dataset))"
   ]
  },
  {
   "cell_type": "code",
   "execution_count": 21,
   "metadata": {},
   "outputs": [
    {
     "name": "stdout",
     "output_type": "stream",
     "text": [
      "Step                Loss                Acc-Train           Acc-Valid           \n",
      "0                   4.37245             0.0                 0.102               \n",
      "1000                0.990903            0.8125              0.8335              \n",
      "2000                0.148068            0.9375              0.8495              \n",
      "3000                0.380244            0.875               0.8515              \n",
      "4000                0.351485            0.9375              0.8535              \n",
      "5000                0.290573            0.875               0.8375              \n",
      "6000                0.0755416           1.0                 0.8475              \n",
      "7000                0.0851677           0.9375              0.8395              \n",
      "8000                0.0233209           1.0                 0.8425              \n",
      "9000                0.0251255           1.0                 0.845               \n",
      "10000               0.000143626         1.0                 0.8535              \n",
      "Test accuracy: 0.9080%\n"
     ]
    }
   ],
   "source": [
    "num_steps = 10001\n",
    "\n",
    "with tf.Session(graph=graph) as session:\n",
    "  tf.global_variables_initializer().run()\n",
    "  print_row(['Step', 'Loss', 'Acc-Train', 'Acc-Valid'])\n",
    "  for step in range(num_steps):\n",
    "    offset = (step * batch_size) % (train_labels.shape[0] - batch_size)\n",
    "    batch_data = train_dataset[offset:(offset + batch_size), :, :, :]\n",
    "    batch_labels = train_labels[offset:(offset + batch_size), :]\n",
    "    feed_dict = {tf_train_dataset : batch_data, tf_train_labels : batch_labels}\n",
    "    _, l, predictions = session.run([optimizer, loss, train_prediction], feed_dict=feed_dict)\n",
    "    if (step % (num_steps // 10) == 0):\n",
    "      test_acc = accuracy(predictions, batch_labels)\n",
    "      valid_acc = accuracy(valid_prediction.eval(), valid_labels)\n",
    "      print_row([step, l, test_acc, valid_acc])   \n",
    "  print('Test accuracy: %.4f%%' % accuracy(test_prediction.eval(), test_labels))"
   ]
  },
  {
   "cell_type": "code",
   "execution_count": null,
   "metadata": {
    "collapsed": true
   },
   "outputs": [],
   "source": []
  }
 ],
 "metadata": {
  "kernelspec": {
   "display_name": "Python 3",
   "language": "python",
   "name": "python3"
  },
  "language_info": {
   "codemirror_mode": {
    "name": "ipython",
    "version": 3
   },
   "file_extension": ".py",
   "mimetype": "text/x-python",
   "name": "python",
   "nbconvert_exporter": "python",
   "pygments_lexer": "ipython3",
   "version": "3.5.2"
  }
 },
 "nbformat": 4,
 "nbformat_minor": 1
}
