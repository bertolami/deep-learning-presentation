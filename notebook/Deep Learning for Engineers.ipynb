{
 "cells": [
  {
   "cell_type": "markdown",
   "metadata": {},
   "source": [
    "# Deep Learning for Engineers\n"
   ]
  },
  {
   "cell_type": "markdown",
   "metadata": {},
   "source": [
    "## Demo 1: Logistic Regression using scikit-learn \n",
    "\n",
    "First we load the data into memory. The data only contains a small fraction of the notMNIST dataset."
   ]
  },
  {
   "cell_type": "code",
   "execution_count": 1,
   "metadata": {
    "collapsed": false
   },
   "outputs": [],
   "source": [
    "def load_data(pickle_file):\n",
    "    import pickle\n",
    "\n",
    "    try:\n",
    "        with open(pickle_file, 'rb') as f:\n",
    "            return pickle.load(f)\n",
    "    except Exception as e:\n",
    "        print('Unable to load data from', pickle_file, ':', e)\n",
    "        raise\n",
    "\n",
    "data = load_data('partial_notMNIST.pickle')\n",
    "train_dataset = data['train_dataset']\n",
    "train_labels = data['train_labels']\n",
    "test_dataset = data['test_dataset']\n",
    "test_labels = data['test_labels']\n",
    "valid_dataset = data['valid_dataset']\n",
    "valid_labels = data['valid_labels']"
   ]
  },
  {
   "cell_type": "markdown",
   "metadata": {},
   "source": [
    "Now, we can use the logistic regression implementation from scikit-learn:"
   ]
  },
  {
   "cell_type": "code",
   "execution_count": 2,
   "metadata": {
    "collapsed": false,
    "scrolled": true
   },
   "outputs": [
    {
     "name": "stdout",
     "output_type": "stream",
     "text": [
      "1000\t[ 0.77073171  0.78217822  0.73366834  0.78787879  0.74489796]\n"
     ]
    }
   ],
   "source": [
    "from sklearn.linear_model import LogisticRegression\n",
    "from sklearn.linear_model import SGDClassifier\n",
    "from sklearn import cross_validation\n",
    "\n",
    "length = len(train_dataset)\n",
    "\n",
    "def cross_validate(samples, classifier=SGDClassifier(n_jobs=-1, n_iter=1000)):\n",
    "    td = train_dataset[:samples].reshape(-1, 28*28)\n",
    "    tl = train_labels[:samples]\n",
    "\n",
    "    score = cross_validation.cross_val_score(classifier, td, tl, cv=5)\n",
    "    print(\"%d\\t%s\" % (samples, score))\n",
    "\n",
    "          \n",
    "cross_validate(1000, classifier=LogisticRegression(random_state=413,multi_class='multinomial', solver='newton-cg'))"
   ]
  },
  {
   "cell_type": "markdown",
   "metadata": {},
   "source": [
    "## Demo 2: Tensor Flow\n",
    "\n"
   ]
  },
  {
   "cell_type": "code",
   "execution_count": 3,
   "metadata": {
    "collapsed": true
   },
   "outputs": [],
   "source": [
    "import numpy as np\n",
    "import tensorflow as tf\n",
    "\n",
    "graph = tf.Graph()\n",
    "with graph.as_default():\n",
    "    A = tf.constant(np.array([1,2,3,4,5]))\n",
    "    B = tf.constant(np.array([1,2,3,4,5]))\n",
    "    R = A + B\n"
   ]
  },
  {
   "cell_type": "code",
   "execution_count": 4,
   "metadata": {
    "collapsed": false
   },
   "outputs": [
    {
     "name": "stdout",
     "output_type": "stream",
     "text": [
      "[array([ 2,  4,  6,  8, 10])]\n"
     ]
    }
   ],
   "source": [
    "with tf.Session(graph=graph) as session:\n",
    "    tf.initialize_all_variables().run()\n",
    "    res = session.run([R])\n",
    "    print(res)\n",
    "    "
   ]
  },
  {
   "cell_type": "markdown",
   "metadata": {},
   "source": [
    "## Demo 3: Logistic Regression using TensorFlow\n",
    "\n",
    "Let's implement the logistic regression using tensor flow."
   ]
  },
  {
   "cell_type": "code",
   "execution_count": 5,
   "metadata": {
    "collapsed": false
   },
   "outputs": [
    {
     "name": "stdout",
     "output_type": "stream",
     "text": [
      "Training set (10000, 784) (10000, 10)\n",
      "Validation set (2000, 784) (2000, 10)\n",
      "Test set (1000, 784) (1000, 10)\n"
     ]
    }
   ],
   "source": [
    "import numpy as np\n",
    "\n",
    "image_size = 28\n",
    "num_labels = 10\n",
    "\n",
    "def reformat(dataset, labels):\n",
    "  dataset = dataset.reshape((-1, image_size * image_size)).astype(np.float32)\n",
    "  # Map 0 to [1.0, 0.0, 0.0 ...], 1 to [0.0, 1.0, 0.0 ...]\n",
    "  labels = (np.arange(num_labels) == labels[:,None]).astype(np.float32)\n",
    "  return dataset, labels\n",
    "train_dataset, train_labels = reformat(train_dataset, train_labels)\n",
    "valid_dataset, valid_labels = reformat(valid_dataset, valid_labels)\n",
    "test_dataset, test_labels = reformat(test_dataset, test_labels)\n",
    "print('Training set', train_dataset.shape, train_labels.shape)\n",
    "print('Validation set', valid_dataset.shape, valid_labels.shape)\n",
    "print('Test set', test_dataset.shape, test_labels.shape)"
   ]
  },
  {
   "cell_type": "code",
   "execution_count": 6,
   "metadata": {
    "collapsed": true
   },
   "outputs": [],
   "source": [
    "train_subset = 10000\n",
    "\n",
    "graph = tf.Graph()\n",
    "with graph.as_default():\n",
    "  # Load the Data\n",
    "  tf_train_dataset = tf.constant(train_dataset[:train_subset, :])\n",
    "  tf_train_labels = tf.constant(train_labels[:train_subset])\n",
    "  tf_valid_dataset = tf.constant(valid_dataset)\n",
    "  tf_test_dataset = tf.constant(test_dataset)\n",
    "  \n",
    "  # Linear Model\n",
    "  weights = tf.Variable(tf.truncated_normal([image_size * image_size, num_labels]))\n",
    "  biases = tf.Variable(tf.zeros([num_labels]))\n",
    "  \n",
    "  # Training computation.\n",
    "  logits = tf.matmul(tf_train_dataset, weights) + biases\n",
    "  loss = tf.reduce_mean(tf.nn.softmax_cross_entropy_with_logits(logits, tf_train_labels))\n",
    "  \n",
    "  # Optimizer.\n",
    "  optimizer = tf.train.GradientDescentOptimizer(0.5).minimize(loss)\n",
    "  \n",
    "  # Predict!\n",
    "  train_prediction = tf.nn.softmax(logits)\n",
    "  valid_prediction = tf.nn.softmax(tf.matmul(tf_valid_dataset, weights) + biases)\n",
    "  test_prediction = tf.nn.softmax(tf.matmul(tf_test_dataset, weights) + biases)"
   ]
  },
  {
   "cell_type": "code",
   "execution_count": 7,
   "metadata": {
    "collapsed": false
   },
   "outputs": [
    {
     "name": "stdout",
     "output_type": "stream",
     "text": [
      "Step\t\tLoss\t\tA-Train\t\tA-Valid\n",
      "0\t\t21.4154\t\t0.0693\t\t0.086\n",
      "100\t\t2.32159\t\t0.7172\t\t0.7155\n",
      "200\t\t1.88198\t\t0.7494\t\t0.732\n",
      "300\t\t1.63597\t\t0.759\t\t0.7435\n",
      "400\t\t1.46744\t\t0.7681\t\t0.746\n",
      "500\t\t1.34139\t\t0.7745\t\t0.748\n",
      "600\t\t1.24208\t\t0.7812\t\t0.7495\n",
      "700\t\t1.16096\t\t0.7867\t\t0.7485\n",
      "800\t\t1.09305\t\t0.7925\t\t0.7505\n",
      "900\t\t1.03522\t\t0.7975\t\t0.7495\n",
      "Test accuracy: 0.826\n"
     ]
    }
   ],
   "source": [
    "num_steps = 1000\n",
    "\n",
    "def print_row(cols):\n",
    "    print('\\t\\t'.join(map(str, cols)))\n",
    "\n",
    "def accuracy(predictions, labels):\n",
    "  return (np.sum(np.argmax(predictions, 1) == np.argmax(labels, 1))\n",
    "          / predictions.shape[0])\n",
    "\n",
    "with tf.Session(graph=graph) as session:\n",
    "  print_row(['Step', 'Loss', 'A-Train', 'A-Valid'])\n",
    "  tf.initialize_all_variables().run()\n",
    "  for step in range(num_steps):\n",
    "    _, l, predictions = session.run([optimizer, loss, train_prediction])\n",
    "    if (step % 100 == 0):\n",
    "      train_acc = accuracy(predictions, train_labels[:train_subset, :])\n",
    "      valid_acc = accuracy(valid_prediction.eval(), valid_labels)                    \n",
    "             \n",
    "      print_row([step, l, train_acc, valid_acc])\n",
    "\n",
    "  print('Test accuracy: %.3f' % accuracy(test_prediction.eval(), test_labels))"
   ]
  },
  {
   "cell_type": "markdown",
   "metadata": {},
   "source": [
    "## Demo 4: Stochastic Gradient Descent\n"
   ]
  },
  {
   "cell_type": "code",
   "execution_count": 8,
   "metadata": {
    "collapsed": true
   },
   "outputs": [],
   "source": [
    "train_subset = 128\n",
    "\n",
    "graph = tf.Graph()\n",
    "with graph.as_default():\n",
    "  # Load the Data\n",
    "  tf_train_dataset = tf.constant(train_dataset[:train_subset, :])\n",
    "  tf_train_labels = tf.constant(train_labels[:train_subset])\n",
    "  tf_valid_dataset = tf.constant(valid_dataset)\n",
    "  tf_test_dataset = tf.constant(test_dataset)\n",
    "  \n",
    "  # Linear Model\n",
    "  weights = tf.Variable(\n",
    "    tf.truncated_normal([image_size * image_size, num_labels]))\n",
    "  biases = tf.Variable(tf.zeros([num_labels]))\n",
    "  \n",
    "  # Training computation.\n",
    "  logits = tf.matmul(tf_train_dataset, weights) + biases\n",
    "  loss = tf.reduce_mean(tf.nn.softmax_cross_entropy_with_logits(logits, tf_train_labels))\n",
    "  \n",
    "  # Optimizer.\n",
    "  optimizer = tf.train.GradientDescentOptimizer(0.5).minimize(loss)\n",
    "  \n",
    "  # Predict!\n",
    "  train_prediction = tf.nn.softmax(logits)\n",
    "  valid_prediction = tf.nn.softmax(tf.matmul(tf_valid_dataset, weights) + biases)\n",
    "  test_prediction = tf.nn.softmax(tf.matmul(tf_test_dataset, weights) + biases)"
   ]
  },
  {
   "cell_type": "code",
   "execution_count": 9,
   "metadata": {
    "collapsed": false
   },
   "outputs": [
    {
     "name": "stdout",
     "output_type": "stream",
     "text": [
      "Step\t\tLoss\t\tAcc-Train\t\tAcc-Valid\n",
      "0\t\t20.0249\t\t0.0625\t\t0.13\n",
      "500\t\t0.783816\t\t0.8359375\t\t0.753\n",
      "1000\t\t1.59692\t\t0.6875\t\t0.748\n",
      "1500\t\t1.09122\t\t0.7890625\t\t0.769\n",
      "2000\t\t0.835039\t\t0.8046875\t\t0.77\n",
      "2500\t\t0.738179\t\t0.7890625\t\t0.77\n",
      "Test accuracy: 0.8340%\n"
     ]
    }
   ],
   "source": [
    "num_steps = 3000\n",
    "batch_size = 128\n",
    "\n",
    "with tf.Session(graph=graph) as session:\n",
    "  tf.initialize_all_variables().run()\n",
    "  print_row(['Step', 'Loss', 'Acc-Train', 'Acc-Valid'])\n",
    "  for step in range(num_steps):\n",
    "    offset = (step * batch_size) % (train_labels.shape[0] - batch_size)\n",
    "    batch_data = train_dataset[offset:(offset + batch_size), :]\n",
    "    batch_labels = train_labels[offset:(offset + batch_size), :]\n",
    "    \n",
    "    feed_dict = {tf_train_dataset : batch_data, tf_train_labels : batch_labels}\n",
    "    \n",
    "    _, l, predictions = session.run([optimizer, loss, train_prediction], feed_dict=feed_dict)\n",
    "    \n",
    "    if (step % 500 == 0):\n",
    "      train_acc = accuracy(predictions, batch_labels)\n",
    "      valid_acc = accuracy(valid_prediction.eval(), valid_labels)\n",
    "        \n",
    "      print_row([step, l, train_acc, valid_acc])\n",
    "  print(\"Test accuracy: %.4f%%\" % accuracy(test_prediction.eval(), test_labels))"
   ]
  },
  {
   "cell_type": "markdown",
   "metadata": {},
   "source": [
    "## Demo 4: First Neural Network"
   ]
  },
  {
   "cell_type": "code",
   "execution_count": 10,
   "metadata": {
    "collapsed": true
   },
   "outputs": [],
   "source": [
    "batch_size = 128\n",
    "num_relu = 1024\n",
    "\n",
    "graph = tf.Graph()\n",
    "with graph.as_default():\n",
    "  tf_train_dataset = tf.placeholder(tf.float32,\n",
    "                                    shape=(batch_size, image_size * image_size))\n",
    "  tf_train_labels = tf.placeholder(tf.float32, shape=(batch_size, num_labels))\n",
    "  tf_valid_dataset = tf.constant(valid_dataset)\n",
    "  tf_test_dataset = tf.constant(test_dataset)\n",
    "  \n",
    "  # Variables.\n",
    "  weights_1 = tf.Variable(tf.truncated_normal([image_size * image_size, num_relu]))\n",
    "  biases_1 = tf.Variable(tf.zeros([num_relu]))\n",
    "  \n",
    "  hidden_input = tf.matmul(tf_train_dataset, weights_1) + biases_1\n",
    "  hidden_output = tf.nn.relu(hidden_input)\n",
    "\n",
    "  weights_2 = tf.Variable(tf.truncated_normal([num_relu, num_labels]))\n",
    "  biases_2 = tf.Variable(tf.zeros([num_labels]))\n",
    "\n",
    "  # Training computation.\n",
    "  logits = tf.matmul(hidden_output, weights_2) + biases_2\n",
    "\n",
    "  # Loss to optimize\n",
    "  loss = tf.reduce_mean(tf.nn.softmax_cross_entropy_with_logits(logits, tf_train_labels))\n",
    "  \n",
    "  # Optimizer.\n",
    "  optimizer = tf.train.GradientDescentOptimizer(0.5).minimize(loss)\n",
    "  \n",
    "  # Predictions for the training, validation, and test data.\n",
    "  train_prediction = tf.nn.softmax(logits)\n",
    "  valid_prediction = tf.nn.softmax(tf.matmul(tf.nn.relu(tf.matmul(tf_valid_dataset,weights_1)+biases_1), weights_2) + biases_2)\n",
    "  test_prediction = tf.nn.softmax(tf.matmul(tf.nn.relu(tf.matmul(tf_test_dataset,weights_1)+biases_1), weights_2) + biases_2)\n"
   ]
  },
  {
   "cell_type": "code",
   "execution_count": 11,
   "metadata": {
    "collapsed": false
   },
   "outputs": [
    {
     "name": "stdout",
     "output_type": "stream",
     "text": [
      "Step\t\t\tLoss\t\t\tAcc-Train\t\t\tAcc-Valid\n",
      "0\t\t\t356.928\t\t\t0.09375\t\t\t0.3215\n",
      "500\t\t\t0.376492\t\t\t0.984375\t\t\t0.8135\n",
      "1000\t\t\t7.37418e-05\t\t\t1.0\t\t\t0.823\n",
      "1500\t\t\t0.00327713\t\t\t1.0\t\t\t0.8295\n",
      "2000\t\t\t4.66553e-06\t\t\t1.0\t\t\t0.832\n",
      "2500\t\t\t7.95309e-07\t\t\t1.0\t\t\t0.831\n",
      "3000\t\t\t5.16197e-06\t\t\t1.0\t\t\t0.8325\n",
      "3500\t\t\t1.49184e-06\t\t\t1.0\t\t\t0.8325\n",
      "4000\t\t\t9.77828e-07\t\t\t1.0\t\t\t0.8325\n",
      "Test accuracy: 0.8820\n"
     ]
    }
   ],
   "source": [
    "num_steps = 4001\n",
    "\n",
    "def print_row(cols):\n",
    "    print('\\t\\t\\t'.join(map(str, cols)))\n",
    "\n",
    "with tf.Session(graph=graph) as session:\n",
    "  tf.initialize_all_variables().run()\n",
    "  print_row(['Step', 'Loss', 'Acc-Train', 'Acc-Valid'])\n",
    "  for step in range(num_steps):\n",
    "    offset = (step * batch_size) % (train_labels.shape[0] - batch_size)\n",
    "    batch_data = train_dataset[offset:(offset + batch_size), :]\n",
    "    batch_labels = train_labels[offset:(offset + batch_size), :]\n",
    "    \n",
    "    feed_dict = {tf_train_dataset : batch_data, tf_train_labels : batch_labels}\n",
    "    \n",
    "    _, l, predictions = session.run([optimizer, loss, train_prediction], feed_dict=feed_dict)\n",
    "    \n",
    "    if (step % 500 == 0):\n",
    "      test_acc = accuracy(predictions, batch_labels)\n",
    "      valid_acc = accuracy(valid_prediction.eval(), valid_labels)\n",
    "        \n",
    "      print_row([step, l, test_acc, valid_acc])\n",
    "  print(\"Test accuracy: %.4f\" % accuracy(test_prediction.eval(), test_labels))"
   ]
  },
  {
   "cell_type": "markdown",
   "metadata": {},
   "source": [
    "## Demo 5: Regularization\n",
    "\n"
   ]
  },
  {
   "cell_type": "code",
   "execution_count": 12,
   "metadata": {
    "collapsed": false
   },
   "outputs": [],
   "source": [
    "batch_size = 256\n",
    "num_relu = 1024\n",
    "\n",
    "graph = tf.Graph()\n",
    "with graph.as_default():\n",
    "\n",
    "  tf_train_dataset = tf.placeholder(tf.float32,\n",
    "                                    shape=(batch_size, image_size * image_size))\n",
    "  tf_train_labels = tf.placeholder(tf.float32, shape=(batch_size, num_labels))\n",
    "  tf_valid_dataset = tf.constant(valid_dataset)\n",
    "  tf_test_dataset = tf.constant(test_dataset)\n",
    "  \n",
    "  # Variables.\n",
    "  weights_1 = tf.Variable(tf.truncated_normal([image_size * image_size, num_relu]))\n",
    "  biases_1 = tf.Variable(tf.zeros([num_relu]))\n",
    "  \n",
    "  hidden_input = tf.matmul(tf_train_dataset, weights_1) + biases_1\n",
    "  hidden_output = tf.nn.relu(hidden_input)\n",
    "  regularized_output_1 = tf.nn.dropout(hidden_output, 0.5)\n",
    "\n",
    "  weights_2 = tf.Variable(tf.truncated_normal([num_relu, num_labels]))\n",
    "  biases_2 = tf.Variable(tf.zeros([num_labels]))\n",
    "\n",
    "  # Training computation.\n",
    "  logits = tf.matmul(regularized_output_1, weights_2) + biases_2\n",
    "\n",
    "  # Loss to optimize\n",
    "  beta = tf.constant(0.001)\n",
    "  l2_w1 = beta * tf.nn.l2_loss(weights_1)\n",
    "  l2_w2 = beta * tf.nn.l2_loss(weights_2)\n",
    "  logits = tf.matmul(hidden_output, weights_2) + biases_2 \n",
    "  loss = tf.reduce_mean(tf.nn.softmax_cross_entropy_with_logits(logits, tf_train_labels)) + l2_w1 + l2_w2\n",
    "  \n",
    "  # Optimizer.\n",
    "  optimizer = tf.train.GradientDescentOptimizer(0.5).minimize(loss)\n",
    "  \n",
    "  # Predictions for the training, validation, and test data.\n",
    "  train_prediction = tf.nn.softmax(logits)\n",
    "  valid_prediction = tf.nn.softmax(tf.matmul(tf.nn.relu(tf.matmul(tf_valid_dataset,weights_1)+biases_1), weights_2) + biases_2)\n",
    "  test_prediction = tf.nn.softmax(tf.matmul(tf.nn.relu(tf.matmul(tf_test_dataset,weights_1)+biases_1), weights_2) + biases_2)\n"
   ]
  },
  {
   "cell_type": "code",
   "execution_count": 13,
   "metadata": {
    "collapsed": false
   },
   "outputs": [
    {
     "name": "stdout",
     "output_type": "stream",
     "text": [
      "Step\t\t\tLoss\t\t\tAcc-Train\t\t\tAcc-Valid\n",
      "0\t\t\t696.86\t\t\t0.1015625\t\t\t0.4835\n",
      "1000\t\t\t114.69\t\t\t1.0\t\t\t0.818\n",
      "2000\t\t\t42.187\t\t\t1.0\t\t\t0.824\n",
      "3000\t\t\t15.5565\t\t\t1.0\t\t\t0.837\n",
      "Test accuracy: 0.8950%\n"
     ]
    }
   ],
   "source": [
    "num_steps = 4000\n",
    "\n",
    "def print_row(cols):\n",
    "    print('\\t\\t\\t'.join(map(str, cols)))\n",
    "\n",
    "with tf.Session(graph=graph) as session:\n",
    "  tf.initialize_all_variables().run()\n",
    "  print_row(['Step', 'Loss', 'Acc-Train', 'Acc-Valid'])\n",
    "  for step in range(num_steps):\n",
    "    # Pick Minibatch\n",
    "    offset = (step * batch_size) % (train_labels.shape[0] - batch_size)\n",
    "    batch_data = train_dataset[offset:(offset + batch_size), :]\n",
    "    batch_labels = train_labels[offset:(offset + batch_size), :]\n",
    "    \n",
    "    feed_dict = {tf_train_dataset : batch_data, tf_train_labels : batch_labels}\n",
    "    \n",
    "    _, l, predictions = session.run([optimizer, loss, train_prediction], feed_dict=feed_dict)\n",
    "    \n",
    "    if step % 1000 == 0:\n",
    "      test_acc = accuracy(predictions, batch_labels)\n",
    "      valid_acc = accuracy(valid_prediction.eval(), valid_labels)\n",
    "        \n",
    "      print_row([step, l, test_acc, valid_acc])\n",
    "  print(\"Test accuracy: %.4f%%\" % accuracy(test_prediction.eval(), test_labels))"
   ]
  },
  {
   "cell_type": "markdown",
   "metadata": {
    "collapsed": true
   },
   "source": [
    "# Demo 6: Convolutional Networks"
   ]
  },
  {
   "cell_type": "code",
   "execution_count": 14,
   "metadata": {
    "collapsed": false,
    "scrolled": true
   },
   "outputs": [
    {
     "name": "stdout",
     "output_type": "stream",
     "text": [
      "Training set (10000, 28, 28, 1) (10000, 10)\n",
      "Validation set (2000, 28, 28, 1) (2000, 10)\n",
      "Test set (1000, 28, 28, 1) (1000, 10)\n"
     ]
    }
   ],
   "source": [
    "image_size = 28\n",
    "num_labels = 10\n",
    "num_channels = 1 \n",
    "\n",
    "import numpy as np\n",
    "\n",
    "data = load_data('partial_notMNIST.pickle')\n",
    "train_dataset = data['train_dataset']\n",
    "train_labels = data['train_labels']\n",
    "test_dataset = data['test_dataset']\n",
    "test_labels = data['test_labels']\n",
    "valid_dataset = data['valid_dataset']\n",
    "valid_labels = data['valid_labels']\n",
    "\n",
    "def reformat(dataset, labels):\n",
    "  dataset = dataset.reshape((-1, image_size, image_size, num_channels)).astype(np.float32)\n",
    "  labels = (np.arange(num_labels) == labels[:,None]).astype(np.float32)\n",
    "  return dataset, labels\n",
    "\n",
    "train_dataset, train_labels = reformat(train_dataset, train_labels)\n",
    "valid_dataset, valid_labels = reformat(valid_dataset, valid_labels)\n",
    "test_dataset, test_labels = reformat(test_dataset, test_labels)\n",
    "print('Training set', train_dataset.shape, train_labels.shape)\n",
    "print('Validation set', valid_dataset.shape, valid_labels.shape)\n",
    "print('Test set', test_dataset.shape, test_labels.shape)"
   ]
  },
  {
   "cell_type": "code",
   "execution_count": 15,
   "metadata": {
    "collapsed": false
   },
   "outputs": [],
   "source": [
    "batch_size = 16\n",
    "patch_size = 5\n",
    "depth = 16\n",
    "num_hidden = 64\n",
    "\n",
    "graph = tf.Graph()\n",
    "\n",
    "with graph.as_default():\n",
    "\n",
    "  # Input data.\n",
    "  tf_train_dataset = tf.placeholder(tf.float32, shape=(batch_size, image_size, image_size, num_channels))\n",
    "  tf_train_labels = tf.placeholder(tf.float32, shape=(batch_size, num_labels))\n",
    "  tf_valid_dataset = tf.constant(valid_dataset)\n",
    "  tf_test_dataset = tf.constant(test_dataset)\n",
    "  \n",
    "  # Variables.\n",
    "  layer1_weights = tf.Variable(tf.truncated_normal([patch_size, patch_size, num_channels, depth], stddev=0.1))\n",
    "  layer1_biases = tf.Variable(tf.zeros([depth]))\n",
    "  layer2_weights = tf.Variable(tf.truncated_normal([patch_size, patch_size, depth, depth], stddev=0.1))\n",
    "  layer2_biases = tf.Variable(tf.constant(1.0, shape=[depth]))\n",
    "  layer3_weights = tf.Variable(tf.truncated_normal([image_size // 4 * image_size // 4 * depth, num_hidden], stddev=0.1))\n",
    "  layer3_biases = tf.Variable(tf.constant(1.0, shape=[num_hidden]))\n",
    "  layer4_weights = tf.Variable(tf.truncated_normal([num_hidden, num_labels], stddev=0.1))\n",
    "  layer4_biases = tf.Variable(tf.constant(1.0, shape=[num_labels]))\n",
    "  \n",
    "  def model(data):\n",
    "    conv = tf.nn.conv2d(data, layer1_weights, [1, 2, 2, 1], padding='SAME')\n",
    "    hidden = tf.nn.relu(conv + layer1_biases)\n",
    "    conv = tf.nn.conv2d(hidden, layer2_weights, [1, 2, 2, 1], padding='SAME')\n",
    "    hidden = tf.nn.relu(conv + layer2_biases)\n",
    "    \n",
    "    shape = hidden.get_shape().as_list()\n",
    "    reshape = tf.reshape(hidden, [shape[0], shape[1] * shape[2] * shape[3]])\n",
    "    hidden = tf.nn.relu(tf.matmul(reshape, layer3_weights) + layer3_biases)\n",
    "    return tf.matmul(hidden, layer4_weights) + layer4_biases\n",
    "  \n",
    "  # Training computation.\n",
    "  logits = model(tf_train_dataset)\n",
    "  loss = tf.reduce_mean(\n",
    "    tf.nn.softmax_cross_entropy_with_logits(logits, tf_train_labels))\n",
    "    \n",
    "  optimizer = tf.train.GradientDescentOptimizer(0.05).minimize(loss)\n",
    "  \n",
    "  # Predictions for the training, validation, and test data.\n",
    "  train_prediction = tf.nn.softmax(logits)\n",
    "  valid_prediction = tf.nn.softmax(model(tf_valid_dataset))\n",
    "  test_prediction = tf.nn.softmax(model(tf_test_dataset))"
   ]
  },
  {
   "cell_type": "code",
   "execution_count": 16,
   "metadata": {
    "collapsed": false
   },
   "outputs": [
    {
     "name": "stdout",
     "output_type": "stream",
     "text": [
      "Step\t\t\tLoss\t\t\tAcc-Train\t\t\tAcc-Valid\n",
      "0\t\t\t3.1633\t\t\t0.0625\t\t\t0.102\n",
      "1000\t\t\t0.842238\t\t\t0.875\t\t\t0.82\n",
      "2000\t\t\t0.330374\t\t\t0.9375\t\t\t0.842\n",
      "3000\t\t\t0.427406\t\t\t0.9375\t\t\t0.853\n",
      "4000\t\t\t0.361476\t\t\t0.8125\t\t\t0.8515\n",
      "5000\t\t\t0.196726\t\t\t0.9375\t\t\t0.8545\n",
      "6000\t\t\t0.0766412\t\t\t0.9375\t\t\t0.8435\n",
      "7000\t\t\t0.0919641\t\t\t1.0\t\t\t0.841\n",
      "8000\t\t\t0.196943\t\t\t0.9375\t\t\t0.8385\n",
      "9000\t\t\t0.0474098\t\t\t1.0\t\t\t0.8555\n",
      "10000\t\t\t0.0225548\t\t\t1.0\t\t\t0.856\n",
      "Test accuracy: 0.8840%\n"
     ]
    }
   ],
   "source": [
    "num_steps = 10001\n",
    "\n",
    "with tf.Session(graph=graph) as session:\n",
    "  tf.initialize_all_variables().run()\n",
    "  print_row(['Step', 'Loss', 'Acc-Train', 'Acc-Valid'])\n",
    "  for step in range(num_steps):\n",
    "    offset = (step * batch_size) % (train_labels.shape[0] - batch_size)\n",
    "    batch_data = train_dataset[offset:(offset + batch_size), :, :, :]\n",
    "    batch_labels = train_labels[offset:(offset + batch_size), :]\n",
    "    feed_dict = {tf_train_dataset : batch_data, tf_train_labels : batch_labels}\n",
    "    _, l, predictions = session.run([optimizer, loss, train_prediction], feed_dict=feed_dict)\n",
    "    if (step % (num_steps // 10) == 0):\n",
    "      test_acc = accuracy(predictions, batch_labels)\n",
    "      valid_acc = accuracy(valid_prediction.eval(), valid_labels)\n",
    "      print_row([step, l, test_acc, valid_acc])   \n",
    "  print('Test accuracy: %.4f%%' % accuracy(test_prediction.eval(), test_labels))"
   ]
  },
  {
   "cell_type": "code",
   "execution_count": null,
   "metadata": {
    "collapsed": true
   },
   "outputs": [],
   "source": []
  }
 ],
 "metadata": {
  "kernelspec": {
   "display_name": "Python 3",
   "language": "python",
   "name": "python3"
  },
  "language_info": {
   "codemirror_mode": {
    "name": "ipython",
    "version": 3
   },
   "file_extension": ".py",
   "mimetype": "text/x-python",
   "name": "python",
   "nbconvert_exporter": "python",
   "pygments_lexer": "ipython3",
   "version": "3.4.3+"
  }
 },
 "nbformat": 4,
 "nbformat_minor": 0
}
